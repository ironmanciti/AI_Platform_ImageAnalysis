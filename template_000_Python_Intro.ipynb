{
 "cells": [
  {
   "cell_type": "markdown",
   "metadata": {
    "id": "m6VOCqC51iD_"
   },
   "source": [
    "# Python Language Introduction\n",
    "\n",
    "## Assignment "
   ]
  },
  {
   "cell_type": "markdown",
   "metadata": {
    "id": "HPRM6oZX1iEF"
   },
   "source": [
    "## if then, else"
   ]
  },
  {
   "cell_type": "markdown",
   "metadata": {
    "id": "lFMHdzoh1iEG"
   },
   "source": [
    "## for-loop"
   ]
  },
  {
   "cell_type": "markdown",
   "metadata": {
    "id": "dEqh8bSs1iEG"
   },
   "source": [
    "## list / tuple"
   ]
  },
  {
   "cell_type": "markdown",
   "metadata": {
    "id": "Z8BBPxHv1iEH"
   },
   "source": [
    "## dictionary"
   ]
  },
  {
   "cell_type": "markdown",
   "metadata": {
    "id": "g_-hWO3P1iEH"
   },
   "source": [
    "## 함수"
   ]
  }
 ],
 "metadata": {
  "colab": {
   "name": "000_Crash0_Python_Language.ipynb",
   "provenance": []
  },
  "kernelspec": {
   "display_name": "Python 3 (ipykernel)",
   "language": "python",
   "name": "python3"
  },
  "language_info": {
   "codemirror_mode": {
    "name": "ipython",
    "version": 3
   },
   "file_extension": ".py",
   "mimetype": "text/x-python",
   "name": "python",
   "nbconvert_exporter": "python",
   "pygments_lexer": "ipython3",
   "version": "3.8.13"
  }
 },
 "nbformat": 4,
 "nbformat_minor": 1
}
